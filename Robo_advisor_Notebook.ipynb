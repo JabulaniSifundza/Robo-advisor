{
 "cells": [
  {
   "cell_type": "code",
   "execution_count": 4,
   "id": "3e619e26",
   "metadata": {},
   "outputs": [
    {
     "name": "stdout",
     "output_type": "stream",
     "text": [
      "Collecting openpyxl\n",
      "  Using cached openpyxl-3.1.2-py2.py3-none-any.whl (249 kB)\n",
      "Collecting et-xmlfile\n",
      "  Using cached et_xmlfile-1.1.0-py3-none-any.whl (4.7 kB)\n",
      "Installing collected packages: et-xmlfile, openpyxl\n",
      "Successfully installed et-xmlfile-1.1.0 openpyxl-3.1.2\n"
     ]
    }
   ],
   "source": [
    "!pip install openpyxl"
   ]
  },
  {
   "cell_type": "code",
   "execution_count": 25,
   "id": "50efc08a",
   "metadata": {},
   "outputs": [],
   "source": [
    "from sklearn.linear_model import LinearRegression\n",
    "from sklearn.linear_model import Lasso\n",
    "from sklearn.linear_model import ElasticNet\n",
    "from sklearn.tree import DecisionTreeRegressor\n",
    "from sklearn.neighbors import KNeighborsRegressor\n",
    "from sklearn.svm import SVR\n",
    "from sklearn.ensemble import RandomForestRegressor\n",
    "from sklearn.ensemble import GradientBoostingRegressor\n",
    "from sklearn.ensemble import ExtraTreesRegressor\n",
    "from sklearn.ensemble import AdaBoostRegressor\n",
    "from sklearn.neural_network import MLPRegressor\n",
    "from sklearn.model_selection import train_test_split\n",
    "from sklearn.model_selection import KFold\n",
    "from sklearn.model_selection import cross_val_score\n",
    "from sklearn.model_selection import GridSearchCV\n",
    "from sklearn.metrics import mean_squared_error\n",
    "from sklearn.feature_selection import SelectKBest\n",
    "from sklearn.feature_selection import chi2, f_regression\n",
    "from keras.models import Sequential\n",
    "from keras.layers import Dense\n",
    "from keras.optimizers import SGD\n",
    "from keras.layers import LSTM\n",
    "from keras.wrappers.scikit_learn import KerasRegressor\n",
    "from statsmodels.tsa.arima.model import ARIMA\n",
    "import statsmodels.api as sm\n",
    "import numpy as np\n",
    "import pandas as pd\n",
    "import pandas_datareader.data as web\n",
    "from matplotlib import pyplot\n",
    "from pandas.plotting import scatter_matrix\n",
    "import seaborn as sns\n",
    "from sklearn.preprocessing import StandardScaler\n",
    "from pandas.plotting import scatter_matrix\n",
    "from statsmodels.graphics.tsaplots import plot_acf"
   ]
  },
  {
   "cell_type": "code",
   "execution_count": 26,
   "id": "417937d7",
   "metadata": {},
   "outputs": [],
   "source": [
    "dataset = pd.read_excel('SCFP2009panel.xlsx')"
   ]
  },
  {
   "cell_type": "code",
   "execution_count": 7,
   "id": "a03c07bc",
   "metadata": {},
   "outputs": [
    {
     "data": {
      "text/plain": [
       "(19285, 515)"
      ]
     },
     "execution_count": 7,
     "metadata": {},
     "output_type": "execute_result"
    }
   ],
   "source": [
    "dataset.shape"
   ]
  },
  {
   "cell_type": "code",
   "execution_count": 8,
   "id": "0a2bdcee",
   "metadata": {},
   "outputs": [],
   "source": [
    "# Data preparation and feature selection\n",
    "# Computing Risky assets and risk-free assets for 2007\n",
    "dataset['RiskFree07']= dataset['LIQ07'] + dataset['CDS07'] + dataset['SAVBND07']\\\n",
    " + dataset['CASHLI07']\n",
    "dataset['Risky07'] = dataset['NMMF07'] + dataset['STOCKS07'] + dataset['BOND07']\n",
    "\n",
    "# Computing Risky assets and risk-free assets for 2009\n",
    "dataset['RiskFree09']= dataset['LIQ09'] + dataset['CDS09'] + dataset['SAVBND09']\\\n",
    "+ dataset['CASHLI09']\n",
    "dataset['Risky09'] = dataset['NMMF09'] + dataset['STOCKS09'] + dataset['BOND09']\n",
    "\n",
    "# Risk tolerance for 2007\n",
    "dataset['RT07'] = dataset['Risky07']/(dataset['Risky07']+dataset['RiskFree07'])"
   ]
  },
  {
   "cell_type": "code",
   "execution_count": 9,
   "id": "60ef3bda",
   "metadata": {},
   "outputs": [],
   "source": [
    "# Average stock index for normalizing risky assets in 2009\n",
    "Average_SP500_2007=1478\n",
    "Average_SP500_2009=948"
   ]
  },
  {
   "cell_type": "code",
   "execution_count": 10,
   "id": "ebeb5223",
   "metadata": {},
   "outputs": [],
   "source": [
    "# 2009 risk tolerance\n",
    "dataset['RT09'] = dataset['Risky09']/(dataset['Risky09']+dataset['RiskFree09'])*\\\n",
    "                (Average_SP500_2009/Average_SP500_2007)"
   ]
  },
  {
   "cell_type": "code",
   "execution_count": 13,
   "id": "120dfb2e",
   "metadata": {},
   "outputs": [],
   "source": [
    "#Diable the warnings\n",
    "import warnings\n",
    "warnings.filterwarnings('ignore')"
   ]
  },
  {
   "cell_type": "code",
   "execution_count": 14,
   "id": "33364b3a",
   "metadata": {},
   "outputs": [],
   "source": [
    "# Change in risk tolerance between 2007 and 2009\n",
    "dataset['PercentageChange'] = np.abs(dataset['RT09']/dataset['RT07']-1)\n",
    "dataset = dataset.dropna(axis=0)\n",
    "dataset = dataset[~dataset.isin([np.nan, np.inf, -np.inf]).any(1)]"
   ]
  },
  {
   "cell_type": "code",
   "execution_count": 15,
   "id": "83450a4e",
   "metadata": {},
   "outputs": [
    {
     "data": {
      "text/plain": [
       "<Axes: xlabel='RT07'>"
      ]
     },
     "execution_count": 15,
     "metadata": {},
     "output_type": "execute_result"
    },
    {
     "data": {
      "image/png": "[encoded data removed]",
      "text/plain": [
       "<Figure size 640x480 with 1 Axes>"
      ]
     },
     "metadata": {},
     "output_type": "display_data"
    }
   ],
   "source": [
    "sns.distplot(dataset['RT07'], hist=True, kde=False, bins=int(180/5), color='blue', hist_kws={'edgecolor':'black'})\n"
   ]
  },
  {
   "cell_type": "code",
   "execution_count": 16,
   "id": "d177984e",
   "metadata": {},
   "outputs": [
    {
     "data": {
      "text/plain": [
       "<Axes: xlabel='RT09'>"
      ]
     },
     "execution_count": 16,
     "metadata": {},
     "output_type": "execute_result"
    },
    {
     "data": {
      "image/png": "[encoded data removed]",
      "text/plain": [
       "<Figure size 640x480 with 1 Axes>"
      ]
     },
     "metadata": {},
     "output_type": "display_data"
    }
   ],
   "source": [
    "sns.distplot(dataset['RT09'], hist=True, kde=False, bins=int(180/5), color='blue', hist_kws={'edgecolor':'black'})\n"
   ]
  },
  {
   "cell_type": "code",
   "execution_count": 17,
   "id": "e7cc1672",
   "metadata": {},
   "outputs": [],
   "source": [
    "# Clearly, the behavior of the individuals reversed after the crisis.\n",
    "# Overall risk tolerance decreased, which is shown by the outsized proportion of households having risk tolerance close to zero in 2009. \n",
    "# Most of the investments of these individuals were in risk-free assets.\n",
    "# Picking intelligent investors whose tolerance didn't change\n",
    "# tolerance between 2007 and 2009 was less than 10%\n",
    "\n",
    "dataset3 = dataset[dataset['PercentageChange']<=.1]"
   ]
  },
  {
   "cell_type": "code",
   "execution_count": 18,
   "id": "80ad7d03",
   "metadata": {},
   "outputs": [],
   "source": [
    "dataset3['TrueRiskTolerance'] = (dataset3['RT07'] + dataset3['RT09'])/2"
   ]
  },
  {
   "cell_type": "code",
   "execution_count": 20,
   "id": "750b06cb",
   "metadata": {},
   "outputs": [
    {
     "ename": "KeyError",
     "evalue": "\"['RT07', 'RT09'] not found in axis\"",
     "output_type": "error",
     "traceback": [
      "\u001b[0;31m---------------------------------------------------------------------------\u001b[0m",
      "\u001b[0;31mKeyError\u001b[0m                                  Traceback (most recent call last)",
      "Cell \u001b[0;32mIn[20], line 2\u001b[0m\n\u001b[1;32m      1\u001b[0m \u001b[38;5;66;03m# Dropping unneccessary labels\u001b[39;00m\n\u001b[0;32m----> 2\u001b[0m \u001b[43mdataset3\u001b[49m\u001b[38;5;241;43m.\u001b[39;49m\u001b[43mdrop\u001b[49m\u001b[43m(\u001b[49m\u001b[43mlabels\u001b[49m\u001b[38;5;241;43m=\u001b[39;49m\u001b[43m[\u001b[49m\u001b[38;5;124;43m'\u001b[39;49m\u001b[38;5;124;43mRT07\u001b[39;49m\u001b[38;5;124;43m'\u001b[39;49m\u001b[43m,\u001b[49m\u001b[43m \u001b[49m\u001b[38;5;124;43m'\u001b[39;49m\u001b[38;5;124;43mRT09\u001b[39;49m\u001b[38;5;124;43m'\u001b[39;49m\u001b[43m]\u001b[49m\u001b[43m,\u001b[49m\u001b[43m \u001b[49m\u001b[43maxis\u001b[49m\u001b[38;5;241;43m=\u001b[39;49m\u001b[38;5;241;43m1\u001b[39;49m\u001b[43m,\u001b[49m\u001b[43m \u001b[49m\u001b[43minplace\u001b[49m\u001b[38;5;241;43m=\u001b[39;49m\u001b[38;5;28;43;01mTrue\u001b[39;49;00m\u001b[43m)\u001b[49m\n\u001b[1;32m      3\u001b[0m dataset3\u001b[38;5;241m.\u001b[39mdrop(labels\u001b[38;5;241m=\u001b[39m[\u001b[38;5;124m'\u001b[39m\u001b[38;5;124mPercentageChange\u001b[39m\u001b[38;5;124m'\u001b[39m], axis\u001b[38;5;241m=\u001b[39m\u001b[38;5;241m1\u001b[39m, inplace\u001b[38;5;241m=\u001b[39m\u001b[38;5;28;01mTrue\u001b[39;00m)\n",
      "File \u001b[0;32m~/miniconda3/envs/tensorflow/lib/python3.10/site-packages/pandas/util/_decorators.py:331\u001b[0m, in \u001b[0;36mdeprecate_nonkeyword_arguments.<locals>.decorate.<locals>.wrapper\u001b[0;34m(*args, **kwargs)\u001b[0m\n\u001b[1;32m    325\u001b[0m \u001b[38;5;28;01mif\u001b[39;00m \u001b[38;5;28mlen\u001b[39m(args) \u001b[38;5;241m>\u001b[39m num_allow_args:\n\u001b[1;32m    326\u001b[0m     warnings\u001b[38;5;241m.\u001b[39mwarn(\n\u001b[1;32m    327\u001b[0m         msg\u001b[38;5;241m.\u001b[39mformat(arguments\u001b[38;5;241m=\u001b[39m_format_argument_list(allow_args)),\n\u001b[1;32m    328\u001b[0m         \u001b[38;5;167;01mFutureWarning\u001b[39;00m,\n\u001b[1;32m    329\u001b[0m         stacklevel\u001b[38;5;241m=\u001b[39mfind_stack_level(),\n\u001b[1;32m    330\u001b[0m     )\n\u001b[0;32m--> 331\u001b[0m \u001b[38;5;28;01mreturn\u001b[39;00m \u001b[43mfunc\u001b[49m\u001b[43m(\u001b[49m\u001b[38;5;241;43m*\u001b[39;49m\u001b[43margs\u001b[49m\u001b[43m,\u001b[49m\u001b[43m \u001b[49m\u001b[38;5;241;43m*\u001b[39;49m\u001b[38;5;241;43m*\u001b[39;49m\u001b[43mkwargs\u001b[49m\u001b[43m)\u001b[49m\n",
      "File \u001b[0;32m~/miniconda3/envs/tensorflow/lib/python3.10/site-packages/pandas/core/frame.py:5399\u001b[0m, in \u001b[0;36mDataFrame.drop\u001b[0;34m(self, labels, axis, index, columns, level, inplace, errors)\u001b[0m\n\u001b[1;32m   5251\u001b[0m \u001b[38;5;129m@deprecate_nonkeyword_arguments\u001b[39m(version\u001b[38;5;241m=\u001b[39m\u001b[38;5;28;01mNone\u001b[39;00m, allowed_args\u001b[38;5;241m=\u001b[39m[\u001b[38;5;124m\"\u001b[39m\u001b[38;5;124mself\u001b[39m\u001b[38;5;124m\"\u001b[39m, \u001b[38;5;124m\"\u001b[39m\u001b[38;5;124mlabels\u001b[39m\u001b[38;5;124m\"\u001b[39m])\n\u001b[1;32m   5252\u001b[0m \u001b[38;5;28;01mdef\u001b[39;00m \u001b[38;5;21mdrop\u001b[39m(  \u001b[38;5;66;03m# type: ignore[override]\u001b[39;00m\n\u001b[1;32m   5253\u001b[0m     \u001b[38;5;28mself\u001b[39m,\n\u001b[0;32m   (...)\u001b[0m\n\u001b[1;32m   5260\u001b[0m     errors: IgnoreRaise \u001b[38;5;241m=\u001b[39m \u001b[38;5;124m\"\u001b[39m\u001b[38;5;124mraise\u001b[39m\u001b[38;5;124m\"\u001b[39m,\n\u001b[1;32m   5261\u001b[0m ) \u001b[38;5;241m-\u001b[39m\u001b[38;5;241m>\u001b[39m DataFrame \u001b[38;5;241m|\u001b[39m \u001b[38;5;28;01mNone\u001b[39;00m:\n\u001b[1;32m   5262\u001b[0m \u001b[38;5;250m    \u001b[39m\u001b[38;5;124;03m\"\"\"\u001b[39;00m\n\u001b[1;32m   5263\u001b[0m \u001b[38;5;124;03m    Drop specified labels from rows or columns.\u001b[39;00m\n\u001b[1;32m   5264\u001b[0m \n\u001b[0;32m   (...)\u001b[0m\n\u001b[1;32m   5397\u001b[0m \u001b[38;5;124;03m            weight  1.0     0.8\u001b[39;00m\n\u001b[1;32m   5398\u001b[0m \u001b[38;5;124;03m    \"\"\"\u001b[39;00m\n\u001b[0;32m-> 5399\u001b[0m     \u001b[38;5;28;01mreturn\u001b[39;00m \u001b[38;5;28;43msuper\u001b[39;49m\u001b[43m(\u001b[49m\u001b[43m)\u001b[49m\u001b[38;5;241;43m.\u001b[39;49m\u001b[43mdrop\u001b[49m\u001b[43m(\u001b[49m\n\u001b[1;32m   5400\u001b[0m \u001b[43m        \u001b[49m\u001b[43mlabels\u001b[49m\u001b[38;5;241;43m=\u001b[39;49m\u001b[43mlabels\u001b[49m\u001b[43m,\u001b[49m\n\u001b[1;32m   5401\u001b[0m \u001b[43m        \u001b[49m\u001b[43maxis\u001b[49m\u001b[38;5;241;43m=\u001b[39;49m\u001b[43maxis\u001b[49m\u001b[43m,\u001b[49m\n\u001b[1;32m   5402\u001b[0m \u001b[43m        \u001b[49m\u001b[43mindex\u001b[49m\u001b[38;5;241;43m=\u001b[39;49m\u001b[43mindex\u001b[49m\u001b[43m,\u001b[49m\n\u001b[1;32m   5403\u001b[0m \u001b[43m        \u001b[49m\u001b[43mcolumns\u001b[49m\u001b[38;5;241;43m=\u001b[39;49m\u001b[43mcolumns\u001b[49m\u001b[43m,\u001b[49m\n\u001b[1;32m   5404\u001b[0m \u001b[43m        \u001b[49m\u001b[43mlevel\u001b[49m\u001b[38;5;241;43m=\u001b[39;49m\u001b[43mlevel\u001b[49m\u001b[43m,\u001b[49m\n\u001b[1;32m   5405\u001b[0m \u001b[43m        \u001b[49m\u001b[43minplace\u001b[49m\u001b[38;5;241;43m=\u001b[39;49m\u001b[43minplace\u001b[49m\u001b[43m,\u001b[49m\n\u001b[1;32m   5406\u001b[0m \u001b[43m        \u001b[49m\u001b[43merrors\u001b[49m\u001b[38;5;241;43m=\u001b[39;49m\u001b[43merrors\u001b[49m\u001b[43m,\u001b[49m\n\u001b[1;32m   5407\u001b[0m \u001b[43m    \u001b[49m\u001b[43m)\u001b[49m\n",
      "File \u001b[0;32m~/miniconda3/envs/tensorflow/lib/python3.10/site-packages/pandas/util/_decorators.py:331\u001b[0m, in \u001b[0;36mdeprecate_nonkeyword_arguments.<locals>.decorate.<locals>.wrapper\u001b[0;34m(*args, **kwargs)\u001b[0m\n\u001b[1;32m    325\u001b[0m \u001b[38;5;28;01mif\u001b[39;00m \u001b[38;5;28mlen\u001b[39m(args) \u001b[38;5;241m>\u001b[39m num_allow_args:\n\u001b[1;32m    326\u001b[0m     warnings\u001b[38;5;241m.\u001b[39mwarn(\n\u001b[1;32m    327\u001b[0m         msg\u001b[38;5;241m.\u001b[39mformat(arguments\u001b[38;5;241m=\u001b[39m_format_argument_list(allow_args)),\n\u001b[1;32m    328\u001b[0m         \u001b[38;5;167;01mFutureWarning\u001b[39;00m,\n\u001b[1;32m    329\u001b[0m         stacklevel\u001b[38;5;241m=\u001b[39mfind_stack_level(),\n\u001b[1;32m    330\u001b[0m     )\n\u001b[0;32m--> 331\u001b[0m \u001b[38;5;28;01mreturn\u001b[39;00m \u001b[43mfunc\u001b[49m\u001b[43m(\u001b[49m\u001b[38;5;241;43m*\u001b[39;49m\u001b[43margs\u001b[49m\u001b[43m,\u001b[49m\u001b[43m \u001b[49m\u001b[38;5;241;43m*\u001b[39;49m\u001b[38;5;241;43m*\u001b[39;49m\u001b[43mkwargs\u001b[49m\u001b[43m)\u001b[49m\n",
      "File \u001b[0;32m~/miniconda3/envs/tensorflow/lib/python3.10/site-packages/pandas/core/generic.py:4505\u001b[0m, in \u001b[0;36mNDFrame.drop\u001b[0;34m(self, labels, axis, index, columns, level, inplace, errors)\u001b[0m\n\u001b[1;32m   4503\u001b[0m \u001b[38;5;28;01mfor\u001b[39;00m axis, labels \u001b[38;5;129;01min\u001b[39;00m axes\u001b[38;5;241m.\u001b[39mitems():\n\u001b[1;32m   4504\u001b[0m     \u001b[38;5;28;01mif\u001b[39;00m labels \u001b[38;5;129;01mis\u001b[39;00m \u001b[38;5;129;01mnot\u001b[39;00m \u001b[38;5;28;01mNone\u001b[39;00m:\n\u001b[0;32m-> 4505\u001b[0m         obj \u001b[38;5;241m=\u001b[39m \u001b[43mobj\u001b[49m\u001b[38;5;241;43m.\u001b[39;49m\u001b[43m_drop_axis\u001b[49m\u001b[43m(\u001b[49m\u001b[43mlabels\u001b[49m\u001b[43m,\u001b[49m\u001b[43m \u001b[49m\u001b[43maxis\u001b[49m\u001b[43m,\u001b[49m\u001b[43m \u001b[49m\u001b[43mlevel\u001b[49m\u001b[38;5;241;43m=\u001b[39;49m\u001b[43mlevel\u001b[49m\u001b[43m,\u001b[49m\u001b[43m \u001b[49m\u001b[43merrors\u001b[49m\u001b[38;5;241;43m=\u001b[39;49m\u001b[43merrors\u001b[49m\u001b[43m)\u001b[49m\n\u001b[1;32m   4507\u001b[0m \u001b[38;5;28;01mif\u001b[39;00m inplace:\n\u001b[1;32m   4508\u001b[0m     \u001b[38;5;28mself\u001b[39m\u001b[38;5;241m.\u001b[39m_update_inplace(obj)\n",
      "File \u001b[0;32m~/miniconda3/envs/tensorflow/lib/python3.10/site-packages/pandas/core/generic.py:4546\u001b[0m, in \u001b[0;36mNDFrame._drop_axis\u001b[0;34m(self, labels, axis, level, errors, only_slice)\u001b[0m\n\u001b[1;32m   4544\u001b[0m         new_axis \u001b[38;5;241m=\u001b[39m axis\u001b[38;5;241m.\u001b[39mdrop(labels, level\u001b[38;5;241m=\u001b[39mlevel, errors\u001b[38;5;241m=\u001b[39merrors)\n\u001b[1;32m   4545\u001b[0m     \u001b[38;5;28;01melse\u001b[39;00m:\n\u001b[0;32m-> 4546\u001b[0m         new_axis \u001b[38;5;241m=\u001b[39m \u001b[43maxis\u001b[49m\u001b[38;5;241;43m.\u001b[39;49m\u001b[43mdrop\u001b[49m\u001b[43m(\u001b[49m\u001b[43mlabels\u001b[49m\u001b[43m,\u001b[49m\u001b[43m \u001b[49m\u001b[43merrors\u001b[49m\u001b[38;5;241;43m=\u001b[39;49m\u001b[43merrors\u001b[49m\u001b[43m)\u001b[49m\n\u001b[1;32m   4547\u001b[0m     indexer \u001b[38;5;241m=\u001b[39m axis\u001b[38;5;241m.\u001b[39mget_indexer(new_axis)\n\u001b[1;32m   4549\u001b[0m \u001b[38;5;66;03m# Case for non-unique axis\u001b[39;00m\n\u001b[1;32m   4550\u001b[0m \u001b[38;5;28;01melse\u001b[39;00m:\n",
      "File \u001b[0;32m~/miniconda3/envs/tensorflow/lib/python3.10/site-packages/pandas/core/indexes/base.py:6934\u001b[0m, in \u001b[0;36mIndex.drop\u001b[0;34m(self, labels, errors)\u001b[0m\n\u001b[1;32m   6932\u001b[0m \u001b[38;5;28;01mif\u001b[39;00m mask\u001b[38;5;241m.\u001b[39many():\n\u001b[1;32m   6933\u001b[0m     \u001b[38;5;28;01mif\u001b[39;00m errors \u001b[38;5;241m!=\u001b[39m \u001b[38;5;124m\"\u001b[39m\u001b[38;5;124mignore\u001b[39m\u001b[38;5;124m\"\u001b[39m:\n\u001b[0;32m-> 6934\u001b[0m         \u001b[38;5;28;01mraise\u001b[39;00m \u001b[38;5;167;01mKeyError\u001b[39;00m(\u001b[38;5;124mf\u001b[39m\u001b[38;5;124m\"\u001b[39m\u001b[38;5;132;01m{\u001b[39;00m\u001b[38;5;28mlist\u001b[39m(labels[mask])\u001b[38;5;132;01m}\u001b[39;00m\u001b[38;5;124m not found in axis\u001b[39m\u001b[38;5;124m\"\u001b[39m)\n\u001b[1;32m   6935\u001b[0m     indexer \u001b[38;5;241m=\u001b[39m indexer[\u001b[38;5;241m~\u001b[39mmask]\n\u001b[1;32m   6936\u001b[0m \u001b[38;5;28;01mreturn\u001b[39;00m \u001b[38;5;28mself\u001b[39m\u001b[38;5;241m.\u001b[39mdelete(indexer)\n",
      "\u001b[0;31mKeyError\u001b[0m: \"['RT07', 'RT09'] not found in axis\""
     ]
    }
   ],
   "source": [
    "# Dropping unneccessary labels\n",
    "dataset3.drop(labels=['RT07', 'RT09'], axis=1, inplace=True)"
   ]
  },
  {
   "cell_type": "code",
   "execution_count": 21,
   "id": "bdd536cd",
   "metadata": {},
   "outputs": [],
   "source": [
    "dataset3.drop(labels=['PercentageChange'], axis=1, inplace=True)"
   ]
  },
  {
   "cell_type": "code",
   "execution_count": 22,
   "id": "b7f523d3",
   "metadata": {},
   "outputs": [
    {
     "data": {
      "text/html": [
       "<div>\n",
       "<style scoped>\n",
       "    .dataframe tbody tr th:only-of-type {\n",
       "        vertical-align: middle;\n",
       "    }\n",
       "\n",
       "    .dataframe tbody tr th {\n",
       "        vertical-align: top;\n",
       "    }\n",
       "\n",
       "    .dataframe thead th {\n",
       "        text-align: right;\n",
       "    }\n",
       "</style>\n",
       "<table border=\"1\" class=\"dataframe\">\n",
       "  <thead>\n",
       "    <tr style=\"text-align: right;\">\n",
       "      <th></th>\n",
       "      <th>YY1</th>\n",
       "      <th>Y1</th>\n",
       "      <th>WGT09</th>\n",
       "      <th>AGE07</th>\n",
       "      <th>AGECL07</th>\n",
       "      <th>EDUC07</th>\n",
       "      <th>EDCL07</th>\n",
       "      <th>MARRIED07</th>\n",
       "      <th>KIDS07</th>\n",
       "      <th>LIFECL07</th>\n",
       "      <th>...</th>\n",
       "      <th>SSRETINCPCT</th>\n",
       "      <th>TRANSFOTHINCPCT</th>\n",
       "      <th>PSAVINGPCT</th>\n",
       "      <th>LEVERAGEPCT</th>\n",
       "      <th>I</th>\n",
       "      <th>RiskFree07</th>\n",
       "      <th>Risky07</th>\n",
       "      <th>RiskFree09</th>\n",
       "      <th>Risky09</th>\n",
       "      <th>TrueRiskTolerance</th>\n",
       "    </tr>\n",
       "  </thead>\n",
       "  <tbody>\n",
       "    <tr>\n",
       "      <th>60</th>\n",
       "      <td>14</td>\n",
       "      <td>141</td>\n",
       "      <td>13732.681713</td>\n",
       "      <td>77</td>\n",
       "      <td>6</td>\n",
       "      <td>12</td>\n",
       "      <td>2</td>\n",
       "      <td>1</td>\n",
       "      <td>0</td>\n",
       "      <td>6</td>\n",
       "      <td>...</td>\n",
       "      <td>12.956921</td>\n",
       "      <td>0.0</td>\n",
       "      <td>1000.080237</td>\n",
       "      <td>-35.900702</td>\n",
       "      <td>57</td>\n",
       "      <td>1.170225e+04</td>\n",
       "      <td>2.899673e+03</td>\n",
       "      <td>11000</td>\n",
       "      <td>5000</td>\n",
       "      <td>0.199511</td>\n",
       "    </tr>\n",
       "    <tr>\n",
       "      <th>425</th>\n",
       "      <td>95</td>\n",
       "      <td>951</td>\n",
       "      <td>43.840398</td>\n",
       "      <td>55</td>\n",
       "      <td>4</td>\n",
       "      <td>17</td>\n",
       "      <td>4</td>\n",
       "      <td>1</td>\n",
       "      <td>1</td>\n",
       "      <td>5</td>\n",
       "      <td>...</td>\n",
       "      <td>0.000000</td>\n",
       "      <td>0.0</td>\n",
       "      <td>-16.807607</td>\n",
       "      <td>-54.021909</td>\n",
       "      <td>57</td>\n",
       "      <td>1.102911e+06</td>\n",
       "      <td>2.226535e+06</td>\n",
       "      <td>1354500</td>\n",
       "      <td>30550000</td>\n",
       "      <td>0.641458</td>\n",
       "    </tr>\n",
       "    <tr>\n",
       "      <th>1122</th>\n",
       "      <td>253</td>\n",
       "      <td>2533</td>\n",
       "      <td>297.850586</td>\n",
       "      <td>85</td>\n",
       "      <td>6</td>\n",
       "      <td>17</td>\n",
       "      <td>4</td>\n",
       "      <td>1</td>\n",
       "      <td>0</td>\n",
       "      <td>5</td>\n",
       "      <td>...</td>\n",
       "      <td>18.876864</td>\n",
       "      <td>0.0</td>\n",
       "      <td>1061.195805</td>\n",
       "      <td>0.000000</td>\n",
       "      <td>57</td>\n",
       "      <td>2.148865e+06</td>\n",
       "      <td>3.075725e+06</td>\n",
       "      <td>70000</td>\n",
       "      <td>824000</td>\n",
       "      <td>0.589943</td>\n",
       "    </tr>\n",
       "    <tr>\n",
       "      <th>1190</th>\n",
       "      <td>270</td>\n",
       "      <td>2701</td>\n",
       "      <td>7184.506057</td>\n",
       "      <td>40</td>\n",
       "      <td>2</td>\n",
       "      <td>12</td>\n",
       "      <td>2</td>\n",
       "      <td>1</td>\n",
       "      <td>3</td>\n",
       "      <td>3</td>\n",
       "      <td>...</td>\n",
       "      <td>0.000000</td>\n",
       "      <td>0.0</td>\n",
       "      <td>19.213085</td>\n",
       "      <td>-100.000000</td>\n",
       "      <td>57</td>\n",
       "      <td>2.122975e+03</td>\n",
       "      <td>1.656956e+03</td>\n",
       "      <td>12300</td>\n",
       "      <td>25000</td>\n",
       "      <td>0.434127</td>\n",
       "    </tr>\n",
       "    <tr>\n",
       "      <th>1228</th>\n",
       "      <td>279</td>\n",
       "      <td>2794</td>\n",
       "      <td>4340.608277</td>\n",
       "      <td>70</td>\n",
       "      <td>5</td>\n",
       "      <td>12</td>\n",
       "      <td>2</td>\n",
       "      <td>1</td>\n",
       "      <td>0</td>\n",
       "      <td>5</td>\n",
       "      <td>...</td>\n",
       "      <td>127.436546</td>\n",
       "      <td>0.0</td>\n",
       "      <td>93.125197</td>\n",
       "      <td>-53.466186</td>\n",
       "      <td>57</td>\n",
       "      <td>1.788477e+05</td>\n",
       "      <td>5.488668e+04</td>\n",
       "      <td>331500</td>\n",
       "      <td>175000</td>\n",
       "      <td>0.228218</td>\n",
       "    </tr>\n",
       "    <tr>\n",
       "      <th>...</th>\n",
       "      <td>...</td>\n",
       "      <td>...</td>\n",
       "      <td>...</td>\n",
       "      <td>...</td>\n",
       "      <td>...</td>\n",
       "      <td>...</td>\n",
       "      <td>...</td>\n",
       "      <td>...</td>\n",
       "      <td>...</td>\n",
       "      <td>...</td>\n",
       "      <td>...</td>\n",
       "      <td>...</td>\n",
       "      <td>...</td>\n",
       "      <td>...</td>\n",
       "      <td>...</td>\n",
       "      <td>...</td>\n",
       "      <td>...</td>\n",
       "      <td>...</td>\n",
       "      <td>...</td>\n",
       "      <td>...</td>\n",
       "      <td>...</td>\n",
       "    </tr>\n",
       "    <tr>\n",
       "      <th>19190</th>\n",
       "      <td>4402</td>\n",
       "      <td>44021</td>\n",
       "      <td>5873.843391</td>\n",
       "      <td>53</td>\n",
       "      <td>3</td>\n",
       "      <td>16</td>\n",
       "      <td>4</td>\n",
       "      <td>1</td>\n",
       "      <td>0</td>\n",
       "      <td>2</td>\n",
       "      <td>...</td>\n",
       "      <td>0.000000</td>\n",
       "      <td>0.0</td>\n",
       "      <td>479.375591</td>\n",
       "      <td>13.545972</td>\n",
       "      <td>57</td>\n",
       "      <td>2.278315e+04</td>\n",
       "      <td>1.242717e+04</td>\n",
       "      <td>19000</td>\n",
       "      <td>23000</td>\n",
       "      <td>0.352094</td>\n",
       "    </tr>\n",
       "    <tr>\n",
       "      <th>19191</th>\n",
       "      <td>4402</td>\n",
       "      <td>44022</td>\n",
       "      <td>5939.807789</td>\n",
       "      <td>53</td>\n",
       "      <td>3</td>\n",
       "      <td>16</td>\n",
       "      <td>4</td>\n",
       "      <td>1</td>\n",
       "      <td>0</td>\n",
       "      <td>2</td>\n",
       "      <td>...</td>\n",
       "      <td>0.000000</td>\n",
       "      <td>0.0</td>\n",
       "      <td>479.375591</td>\n",
       "      <td>-9.418465</td>\n",
       "      <td>57</td>\n",
       "      <td>2.174755e+04</td>\n",
       "      <td>1.242717e+04</td>\n",
       "      <td>19000</td>\n",
       "      <td>23000</td>\n",
       "      <td>0.357442</td>\n",
       "    </tr>\n",
       "    <tr>\n",
       "      <th>19192</th>\n",
       "      <td>4402</td>\n",
       "      <td>44023</td>\n",
       "      <td>5970.026444</td>\n",
       "      <td>53</td>\n",
       "      <td>3</td>\n",
       "      <td>16</td>\n",
       "      <td>4</td>\n",
       "      <td>1</td>\n",
       "      <td>0</td>\n",
       "      <td>2</td>\n",
       "      <td>...</td>\n",
       "      <td>0.000000</td>\n",
       "      <td>0.0</td>\n",
       "      <td>479.375591</td>\n",
       "      <td>-18.158422</td>\n",
       "      <td>57</td>\n",
       "      <td>2.278315e+04</td>\n",
       "      <td>1.242717e+04</td>\n",
       "      <td>19000</td>\n",
       "      <td>23000</td>\n",
       "      <td>0.352094</td>\n",
       "    </tr>\n",
       "    <tr>\n",
       "      <th>19193</th>\n",
       "      <td>4402</td>\n",
       "      <td>44024</td>\n",
       "      <td>5993.081847</td>\n",
       "      <td>53</td>\n",
       "      <td>3</td>\n",
       "      <td>16</td>\n",
       "      <td>4</td>\n",
       "      <td>1</td>\n",
       "      <td>0</td>\n",
       "      <td>2</td>\n",
       "      <td>...</td>\n",
       "      <td>0.000000</td>\n",
       "      <td>0.0</td>\n",
       "      <td>479.375591</td>\n",
       "      <td>-21.165892</td>\n",
       "      <td>57</td>\n",
       "      <td>2.278315e+04</td>\n",
       "      <td>1.242717e+04</td>\n",
       "      <td>19000</td>\n",
       "      <td>23000</td>\n",
       "      <td>0.352094</td>\n",
       "    </tr>\n",
       "    <tr>\n",
       "      <th>19194</th>\n",
       "      <td>4402</td>\n",
       "      <td>44025</td>\n",
       "      <td>5955.134573</td>\n",
       "      <td>53</td>\n",
       "      <td>3</td>\n",
       "      <td>16</td>\n",
       "      <td>4</td>\n",
       "      <td>1</td>\n",
       "      <td>0</td>\n",
       "      <td>2</td>\n",
       "      <td>...</td>\n",
       "      <td>0.000000</td>\n",
       "      <td>0.0</td>\n",
       "      <td>479.375591</td>\n",
       "      <td>31.458701</td>\n",
       "      <td>57</td>\n",
       "      <td>2.278315e+04</td>\n",
       "      <td>1.242717e+04</td>\n",
       "      <td>19000</td>\n",
       "      <td>23000</td>\n",
       "      <td>0.352094</td>\n",
       "    </tr>\n",
       "  </tbody>\n",
       "</table>\n",
       "<p>355 rows × 520 columns</p>\n",
       "</div>"
      ],
      "text/plain": [
       "        YY1     Y1         WGT09  AGE07  AGECL07  EDUC07  EDCL07  MARRIED07  \\\n",
       "60       14    141  13732.681713     77        6      12       2          1   \n",
       "425      95    951     43.840398     55        4      17       4          1   \n",
       "1122    253   2533    297.850586     85        6      17       4          1   \n",
       "1190    270   2701   7184.506057     40        2      12       2          1   \n",
       "1228    279   2794   4340.608277     70        5      12       2          1   \n",
       "...     ...    ...           ...    ...      ...     ...     ...        ...   \n",
       "19190  4402  44021   5873.843391     53        3      16       4          1   \n",
       "19191  4402  44022   5939.807789     53        3      16       4          1   \n",
       "19192  4402  44023   5970.026444     53        3      16       4          1   \n",
       "19193  4402  44024   5993.081847     53        3      16       4          1   \n",
       "19194  4402  44025   5955.134573     53        3      16       4          1   \n",
       "\n",
       "       KIDS07  LIFECL07  ...  SSRETINCPCT  TRANSFOTHINCPCT   PSAVINGPCT  \\\n",
       "60          0         6  ...    12.956921              0.0  1000.080237   \n",
       "425         1         5  ...     0.000000              0.0   -16.807607   \n",
       "1122        0         5  ...    18.876864              0.0  1061.195805   \n",
       "1190        3         3  ...     0.000000              0.0    19.213085   \n",
       "1228        0         5  ...   127.436546              0.0    93.125197   \n",
       "...       ...       ...  ...          ...              ...          ...   \n",
       "19190       0         2  ...     0.000000              0.0   479.375591   \n",
       "19191       0         2  ...     0.000000              0.0   479.375591   \n",
       "19192       0         2  ...     0.000000              0.0   479.375591   \n",
       "19193       0         2  ...     0.000000              0.0   479.375591   \n",
       "19194       0         2  ...     0.000000              0.0   479.375591   \n",
       "\n",
       "       LEVERAGEPCT   I    RiskFree07       Risky07  RiskFree09   Risky09  \\\n",
       "60      -35.900702  57  1.170225e+04  2.899673e+03       11000      5000   \n",
       "425     -54.021909  57  1.102911e+06  2.226535e+06     1354500  30550000   \n",
       "1122      0.000000  57  2.148865e+06  3.075725e+06       70000    824000   \n",
       "1190   -100.000000  57  2.122975e+03  1.656956e+03       12300     25000   \n",
       "1228    -53.466186  57  1.788477e+05  5.488668e+04      331500    175000   \n",
       "...            ...  ..           ...           ...         ...       ...   \n",
       "19190    13.545972  57  2.278315e+04  1.242717e+04       19000     23000   \n",
       "19191    -9.418465  57  2.174755e+04  1.242717e+04       19000     23000   \n",
       "19192   -18.158422  57  2.278315e+04  1.242717e+04       19000     23000   \n",
       "19193   -21.165892  57  2.278315e+04  1.242717e+04       19000     23000   \n",
       "19194    31.458701  57  2.278315e+04  1.242717e+04       19000     23000   \n",
       "\n",
       "       TrueRiskTolerance  \n",
       "60              0.199511  \n",
       "425             0.641458  \n",
       "1122            0.589943  \n",
       "1190            0.434127  \n",
       "1228            0.228218  \n",
       "...                  ...  \n",
       "19190           0.352094  \n",
       "19191           0.357442  \n",
       "19192           0.352094  \n",
       "19193           0.352094  \n",
       "19194           0.352094  \n",
       "\n",
       "[355 rows x 520 columns]"
      ]
     },
     "execution_count": 22,
     "metadata": {},
     "output_type": "execute_result"
    }
   ],
   "source": []
  },
  {
   "cell_type": "code",
   "execution_count": 23,
   "id": "fe030c1e",
   "metadata": {},
   "outputs": [],
   "source": [
    "keep_list2 = ['AGE07','EDCL07','MARRIED07','KIDS07','OCCAT107','INCOME07',\\\n",
    "'RISK07','NETWORTH07','TrueRiskTolerance']\n",
    "\n",
    "drop_list2 = [col for col in dataset3.columns if col not in keep_list2]\n",
    "\n",
    "dataset3.drop(labels=drop_list2, axis=1, inplace=True)"
   ]
  },
  {
   "cell_type": "code",
   "execution_count": 24,
   "id": "0e03ef07",
   "metadata": {},
   "outputs": [
    {
     "ename": "NameError",
     "evalue": "name 'plt' is not defined",
     "output_type": "error",
     "traceback": [
      "\u001b[0;31m---------------------------------------------------------------------------\u001b[0m",
      "\u001b[0;31mNameError\u001b[0m                                 Traceback (most recent call last)",
      "Cell \u001b[0;32mIn[24], line 3\u001b[0m\n\u001b[1;32m      1\u001b[0m \u001b[38;5;66;03m# Correalation\u001b[39;00m\n\u001b[1;32m      2\u001b[0m correlation \u001b[38;5;241m=\u001b[39m dataset3\u001b[38;5;241m.\u001b[39mcorr()\n\u001b[0;32m----> 3\u001b[0m \u001b[43mplt\u001b[49m\u001b[38;5;241m.\u001b[39mfigure(figsize\u001b[38;5;241m=\u001b[39m(\u001b[38;5;241m15\u001b[39m,\u001b[38;5;241m15\u001b[39m))\n\u001b[1;32m      4\u001b[0m plt\u001b[38;5;241m.\u001b[39mtitle(\u001b[38;5;124m'\u001b[39m\u001b[38;5;124mCorrelation Matrix\u001b[39m\u001b[38;5;124m'\u001b[39m)\n\u001b[1;32m      5\u001b[0m sns\u001b[38;5;241m.\u001b[39mheatmap(correlation, vmax\u001b[38;5;241m=\u001b[39m\u001b[38;5;241m1\u001b[39m, square\u001b[38;5;241m=\u001b[39m\u001b[38;5;28;01mTrue\u001b[39;00m,annot\u001b[38;5;241m=\u001b[39m\u001b[38;5;28;01mTrue\u001b[39;00m,cmap\u001b[38;5;241m=\u001b[39m\u001b[38;5;124m'\u001b[39m\u001b[38;5;124mcubehelix\u001b[39m\u001b[38;5;124m'\u001b[39m)\n",
      "\u001b[0;31mNameError\u001b[0m: name 'plt' is not defined"
     ]
    }
   ],
   "source": [
    "# Correalation\n",
    "correlation = dataset3.corr()\n",
    "plt.figure(figsize=(15,15))\n",
    "plt.title('Correlation Matrix')\n",
    "sns.heatmap(correlation, vmax=1, square=True,annot=True,cmap='cubehelix')"
   ]
  },
  {
   "cell_type": "code",
   "execution_count": 27,
   "id": "555597e3",
   "metadata": {},
   "outputs": [
    {
     "data": {
      "text/plain": [
       "<Axes: title={'center': 'Correlation Matrix'}>"
      ]
     },
     "execution_count": 27,
     "metadata": {},
     "output_type": "execute_result"
    },
    {
     "data": {
      "image/png": "[encoded data removed]",
      "text/plain": [
       "<Figure size 1500x1500 with 2 Axes>"
      ]
     },
     "metadata": {},
     "output_type": "display_data"
    }
   ],
   "source": [
    "correlation = dataset3.corr()\n",
    "pyplot.figure(figsize=(15,15))\n",
    "pyplot.title(\"Correlation Matrix\")\n",
    "sns.heatmap(correlation, vmax=1, square=True, annot=True, cmap='cubehelix')"
   ]
  },
  {
   "cell_type": "code",
   "execution_count": 28,
   "id": "5b1a2725",
   "metadata": {},
   "outputs": [],
   "source": [
    "# Splitting train and test datasets\n",
    "Y= dataset3[\"TrueRiskTolerance\"]\n",
    "X = dataset3.loc[:, dataset3.columns != 'TrueRiskTolerance']\n",
    "validation_size = 0.2\n",
    "seed = 3\n",
    "X_train, X_validation, Y_train, Y_validation = \\\n",
    "train_test_split(X, Y, test_size=validation_size, random_state=seed)"
   ]
  },
  {
   "cell_type": "code",
   "execution_count": 29,
   "id": "a4bbea15",
   "metadata": {},
   "outputs": [],
   "source": [
    "num_folds = 10\n",
    "scoring = 'r2'"
   ]
  },
  {
   "cell_type": "code",
   "execution_count": 30,
   "id": "3b3954b7",
   "metadata": {},
   "outputs": [],
   "source": [
    "# spot-check the algorithms\n",
    "models = []\n",
    "models.append(('LR', LinearRegression()))\n",
    "models.append(('LASSO', Lasso()))\n",
    "models.append(('EN', ElasticNet()))\n",
    "models.append(('KNN', KNeighborsRegressor()))\n",
    "models.append(('CART', DecisionTreeRegressor()))\n",
    "models.append(('SVR', SVR()))\n",
    "#Ensemble Models\n",
    "# Boosting methods\n",
    "models.append(('ABR', AdaBoostRegressor()))\n",
    "models.append(('GBR', GradientBoostingRegressor()))\n",
    "# Bagging methods\n",
    "models.append(('RFR', RandomForestRegressor()))\n",
    "models.append(('ETR', ExtraTreesRegressor()))"
   ]
  },
  {
   "cell_type": "code",
   "execution_count": 33,
   "id": "996e889f",
   "metadata": {},
   "outputs": [
    {
     "name": "stdout",
     "output_type": "stream",
     "text": [
      "LR: -0.102704 (0.179297)\n",
      "LASSO: -0.041555 (0.109033)\n",
      "EN: -0.047729 (0.108990)\n",
      "KNN: -0.424571 (0.141433)\n",
      "CART: -0.590303 (0.196284)\n",
      "SVR: -0.127585 (0.101040)\n",
      "ABR: -0.389904 (0.147673)\n",
      "GBR: -0.622757 (0.138496)\n",
      "RFR: -0.699875 (0.113090)\n",
      "ETR: -0.692556 (0.147689)\n"
     ]
    }
   ],
   "source": [
    "results = []\n",
    "names = []\n",
    "for name, model in models:\n",
    "    kfold = KFold(n_splits=num_folds,shuffle=True,random_state=seed)\n",
    "    #converted mean square error to positive. The lower the beter\n",
    "    cv_results = -1* cross_val_score(model, X_train, Y_train, cv=kfold, scoring=scoring)\n",
    "    results.append(cv_results)\n",
    "    names.append(name)\n",
    "    msg = \"%s: %f (%f)\" % (name, cv_results.mean(), cv_results.std())\n",
    "    print(msg)"
   ]
  },
  {
   "cell_type": "code",
   "execution_count": 34,
   "id": "f087a361",
   "metadata": {},
   "outputs": [
    {
     "ename": "NameError",
     "evalue": "name 'plt' is not defined",
     "output_type": "error",
     "traceback": [
      "\u001b[0;31m---------------------------------------------------------------------------\u001b[0m",
      "\u001b[0;31mNameError\u001b[0m                                 Traceback (most recent call last)",
      "Cell \u001b[0;32mIn[34], line 2\u001b[0m\n\u001b[1;32m      1\u001b[0m \u001b[38;5;66;03m# compare algorithms\u001b[39;00m\n\u001b[0;32m----> 2\u001b[0m fig \u001b[38;5;241m=\u001b[39m \u001b[43mplt\u001b[49m\u001b[38;5;241m.\u001b[39mfigure()\n\u001b[1;32m      3\u001b[0m fig\u001b[38;5;241m.\u001b[39msuptitle(\u001b[38;5;124m'\u001b[39m\u001b[38;5;124mAlgorithm Comparison\u001b[39m\u001b[38;5;124m'\u001b[39m)\n\u001b[1;32m      4\u001b[0m ax \u001b[38;5;241m=\u001b[39m fig\u001b[38;5;241m.\u001b[39madd_subplot(\u001b[38;5;241m111\u001b[39m)\n",
      "\u001b[0;31mNameError\u001b[0m: name 'plt' is not defined"
     ]
    }
   ],
   "source": [
    "# compare algorithms\n",
    "fig = plt.figure()\n",
    "fig.suptitle('Algorithm Comparison')\n",
    "ax = fig.add_subplot(111)\n",
    "plt.boxplot(results)\n",
    "ax.set_xticklabels(names)\n",
    "fig.set_size_inches(15,8)\n",
    "plt.show()"
   ]
  },
  {
   "cell_type": "code",
   "execution_count": 35,
   "id": "e08c5a56",
   "metadata": {},
   "outputs": [
    {
     "data": {
      "image/png": "[encoded data removed]",
      "text/plain": [
       "<Figure size 1500x800 with 1 Axes>"
      ]
     },
     "metadata": {},
     "output_type": "display_data"
    }
   ],
   "source": [
    "fig = pyplot.figure()\n",
    "fig.suptitle(\"Algorithm Comparison by K-fold results\")\n",
    "ax = fig.add_subplot(111)\n",
    "pyplot.boxplot(results)\n",
    "ax.set_xticklabels(names)\n",
    "fig.set_size_inches(15, 8)\n",
    "pyplot.show()"
   ]
  },
  {
   "cell_type": "code",
   "execution_count": 38,
   "id": "fd6838da",
   "metadata": {},
   "outputs": [
    {
     "name": "stdout",
     "output_type": "stream",
     "text": [
      "Best: 0.718337 using {'n_estimators': 300}\n"
     ]
    }
   ],
   "source": [
    "param_grid = {'n_estimators': [50,100,150,200,250,300,350,400]}\n",
    "model = RandomForestRegressor()\n",
    "kfold = KFold(n_splits=num_folds,shuffle=True,random_state=seed)\n",
    "grid = GridSearchCV(estimator=model, param_grid=param_grid, scoring=scoring, \\\n",
    "  cv=kfold)\n",
    "grid_result = grid.fit(X_train, Y_train)\n",
    "print(\"Best: %f using %s\" % (grid_result.best_score_, grid_result.best_params_))\n",
    "means = grid_result.cv_results_['mean_test_score']\n",
    "stds = grid_result.cv_results_['std_test_score']\n",
    "params = grid_result.cv_results_['params']"
   ]
  },
  {
   "cell_type": "code",
   "execution_count": 61,
   "id": "66cc0cc7",
   "metadata": {},
   "outputs": [
    {
     "data": {
      "text/plain": [
       "(       AGE07  EDCL07  MARRIED07  KIDS07  OCCAT107      INCOME07  RISK07  \\\n",
       " 10233     54       4          1       4         2  3.812615e+06       1   \n",
       " 18794     45       4          1       3         2  2.300349e+06       2   \n",
       " 7786      80       2          1       0         2  1.159291e+08       2   \n",
       " 3504      56       3          2       0         1  2.449446e+04       4   \n",
       " 3090      58       4          1       1         1  1.150174e+05       2   \n",
       " ...      ...     ...        ...     ...       ...           ...     ...   \n",
       " 14498     60       4          1       0         2  1.139525e+06       4   \n",
       " 13941     42       3          1       0         2  1.810460e+05       3   \n",
       " 7308      68       4          1       0         2  5.473978e+06       3   \n",
       " 13565     65       4          1       0         2  1.331220e+05       2   \n",
       " 8287      38       4          1       0         1  7.987322e+04       2   \n",
       " \n",
       "          NETWORTH07  \n",
       " 10233  1.489500e+07  \n",
       " 18794  4.927891e+07  \n",
       " 7786   2.828383e+08  \n",
       " 3504   1.337992e+04  \n",
       " 3090   2.575946e+05  \n",
       " ...             ...  \n",
       " 14498  5.937081e+06  \n",
       " 13941  1.405824e+06  \n",
       " 7308   6.312900e+07  \n",
       " 13565  1.314173e+05  \n",
       " 8287   1.138432e+06  \n",
       " \n",
       " [284 rows x 8 columns],\n",
       " 10233    0.014416\n",
       " 18794    0.654302\n",
       " 7786     0.544186\n",
       " 3504     0.539980\n",
       " 3090     0.577093\n",
       "            ...   \n",
       " 14498    0.593539\n",
       " 13941    0.548267\n",
       " 7308     0.576483\n",
       " 13565    0.429552\n",
       " 8287     0.451609\n",
       " Name: TrueRiskTolerance, Length: 284, dtype: float64)"
      ]
     },
     "execution_count": 61,
     "metadata": {},
     "output_type": "execute_result"
    }
   ],
   "source": [
    "model = RandomForestRegressor(n_estimators = 300)\n",
    "model.fit(X_train, Y_train)\n",
    "X_train, Y_train"
   ]
  },
  {
   "cell_type": "code",
   "execution_count": 41,
   "id": "5aefcd0d",
   "metadata": {},
   "outputs": [],
   "source": [
    "from sklearn.metrics import r2_score"
   ]
  },
  {
   "cell_type": "code",
   "execution_count": 42,
   "id": "a8817eb3",
   "metadata": {},
   "outputs": [
    {
     "name": "stdout",
     "output_type": "stream",
     "text": [
      "0.9632002222785074\n"
     ]
    }
   ],
   "source": [
    "predictions_train = model.predict(X_train)\n",
    "print(r2_score(Y_train, predictions_train))"
   ]
  },
  {
   "cell_type": "code",
   "execution_count": 43,
   "id": "638db0c4",
   "metadata": {},
   "outputs": [
    {
     "name": "stdout",
     "output_type": "stream",
     "text": [
      "0.0075394888753045125\n",
      "0.768878699964259\n"
     ]
    }
   ],
   "source": [
    "predictions = model.predict(X_validation)\n",
    "print(mean_squared_error(Y_validation, predictions))\n",
    "print(r2_score(Y_validation, predictions))"
   ]
  },
  {
   "cell_type": "code",
   "execution_count": 44,
   "id": "6ba9ded5",
   "metadata": {},
   "outputs": [
    {
     "data": {
      "image/png": "[encoded data removed]",
      "text/plain": [
       "<Figure size 640x480 with 1 Axes>"
      ]
     },
     "metadata": {},
     "output_type": "display_data"
    }
   ],
   "source": [
    "# Feature importance of the variables withtin the random forest model\n",
    "import pandas as pd\n",
    "import numpy as np\n",
    "model = RandomForestRegressor(n_estimators= 200,n_jobs=-1)\n",
    "model.fit(X_train,Y_train)\n",
    "#use inbuilt class feature_importances of tree based classifiers\n",
    "#plot graph of feature importances for better visualization\n",
    "feat_importances = pd.Series(model.feature_importances_, index=X.columns)\n",
    "feat_importances.nlargest(10).plot(kind='barh')\n",
    "pyplot.show()"
   ]
  },
  {
   "cell_type": "code",
   "execution_count": 45,
   "id": "0aaae9c8",
   "metadata": {},
   "outputs": [],
   "source": [
    "from pickle import dump\n",
    "from pickle import load"
   ]
  },
  {
   "cell_type": "code",
   "execution_count": 46,
   "id": "d919c240",
   "metadata": {},
   "outputs": [],
   "source": [
    "# save the model to disk\n",
    "filename = 'finalized_robo_advice_model.sav'\n",
    "dump(model, open(filename, 'wb'))"
   ]
  },
  {
   "cell_type": "code",
   "execution_count": 47,
   "id": "e0222845",
   "metadata": {},
   "outputs": [
    {
     "name": "stdout",
     "output_type": "stream",
     "text": [
      "0.7705951606768497\n",
      "0.00748349560923395\n"
     ]
    }
   ],
   "source": [
    "# load the model from disk\n",
    "loaded_model = load(open(filename, 'rb'))\n",
    "# estimate accuracy on validation set\n",
    "predictions = loaded_model.predict(X_validation)\n",
    "result = mean_squared_error(Y_validation, predictions)\n",
    "print(r2_score(Y_validation, predictions))\n",
    "print(result)"
   ]
  },
  {
   "cell_type": "code",
   "execution_count": 49,
   "id": "0eb80106",
   "metadata": {},
   "outputs": [
    {
     "data": {
      "text/html": [
       "<div>\n",
       "<style scoped>\n",
       "    .dataframe tbody tr th:only-of-type {\n",
       "        vertical-align: middle;\n",
       "    }\n",
       "\n",
       "    .dataframe tbody tr th {\n",
       "        vertical-align: top;\n",
       "    }\n",
       "\n",
       "    .dataframe thead th {\n",
       "        text-align: right;\n",
       "    }\n",
       "</style>\n",
       "<table border=\"1\" class=\"dataframe\">\n",
       "  <thead>\n",
       "    <tr style=\"text-align: right;\">\n",
       "      <th></th>\n",
       "      <th>AGE07</th>\n",
       "      <th>EDCL07</th>\n",
       "      <th>MARRIED07</th>\n",
       "      <th>KIDS07</th>\n",
       "      <th>LIFECL07</th>\n",
       "      <th>OCCAT107</th>\n",
       "      <th>INCOME07</th>\n",
       "      <th>RISK07</th>\n",
       "      <th>WSAVED07</th>\n",
       "      <th>SPENDMOR07</th>\n",
       "      <th>NETWORTH07</th>\n",
       "      <th>TrueRiskTol</th>\n",
       "    </tr>\n",
       "  </thead>\n",
       "  <tbody>\n",
       "    <tr>\n",
       "      <th>0</th>\n",
       "      <td>47</td>\n",
       "      <td>2</td>\n",
       "      <td>1</td>\n",
       "      <td>0</td>\n",
       "      <td>2</td>\n",
       "      <td>1</td>\n",
       "      <td>56443.744181</td>\n",
       "      <td>3</td>\n",
       "      <td>1</td>\n",
       "      <td>5</td>\n",
       "      <td>352641.71130</td>\n",
       "      <td>6.947439</td>\n",
       "    </tr>\n",
       "    <tr>\n",
       "      <th>1</th>\n",
       "      <td>47</td>\n",
       "      <td>2</td>\n",
       "      <td>1</td>\n",
       "      <td>0</td>\n",
       "      <td>2</td>\n",
       "      <td>1</td>\n",
       "      <td>56443.744181</td>\n",
       "      <td>3</td>\n",
       "      <td>1</td>\n",
       "      <td>5</td>\n",
       "      <td>340525.21881</td>\n",
       "      <td>6.223158</td>\n",
       "    </tr>\n",
       "    <tr>\n",
       "      <th>2</th>\n",
       "      <td>47</td>\n",
       "      <td>2</td>\n",
       "      <td>1</td>\n",
       "      <td>0</td>\n",
       "      <td>2</td>\n",
       "      <td>1</td>\n",
       "      <td>56443.744181</td>\n",
       "      <td>3</td>\n",
       "      <td>1</td>\n",
       "      <td>5</td>\n",
       "      <td>348696.08426</td>\n",
       "      <td>6.676709</td>\n",
       "    </tr>\n",
       "    <tr>\n",
       "      <th>3</th>\n",
       "      <td>47</td>\n",
       "      <td>2</td>\n",
       "      <td>1</td>\n",
       "      <td>0</td>\n",
       "      <td>2</td>\n",
       "      <td>1</td>\n",
       "      <td>56443.744181</td>\n",
       "      <td>3</td>\n",
       "      <td>1</td>\n",
       "      <td>5</td>\n",
       "      <td>351802.87720</td>\n",
       "      <td>6.286854</td>\n",
       "    </tr>\n",
       "    <tr>\n",
       "      <th>4</th>\n",
       "      <td>47</td>\n",
       "      <td>2</td>\n",
       "      <td>1</td>\n",
       "      <td>0</td>\n",
       "      <td>2</td>\n",
       "      <td>1</td>\n",
       "      <td>56443.744181</td>\n",
       "      <td>3</td>\n",
       "      <td>1</td>\n",
       "      <td>5</td>\n",
       "      <td>358958.85696</td>\n",
       "      <td>6.177016</td>\n",
       "    </tr>\n",
       "  </tbody>\n",
       "</table>\n",
       "</div>"
      ],
      "text/plain": [
       "   AGE07  EDCL07  MARRIED07  KIDS07  LIFECL07  OCCAT107      INCOME07  RISK07  \\\n",
       "0     47       2          1       0         2         1  56443.744181       3   \n",
       "1     47       2          1       0         2         1  56443.744181       3   \n",
       "2     47       2          1       0         2         1  56443.744181       3   \n",
       "3     47       2          1       0         2         1  56443.744181       3   \n",
       "4     47       2          1       0         2         1  56443.744181       3   \n",
       "\n",
       "   WSAVED07  SPENDMOR07    NETWORTH07  TrueRiskTol  \n",
       "0         1           5  352641.71130     6.947439  \n",
       "1         1           5  340525.21881     6.223158  \n",
       "2         1           5  348696.08426     6.676709  \n",
       "3         1           5  351802.87720     6.286854  \n",
       "4         1           5  358958.85696     6.177016  "
      ]
     },
     "execution_count": 49,
     "metadata": {},
     "output_type": "execute_result"
    }
   ],
   "source": [
    "# Robo advisor Section\n",
    "investors = pd.read_csv('InputData.csv', index_col = 0 )\n",
    "investors.head()"
   ]
  },
  {
   "cell_type": "code",
   "execution_count": 57,
   "id": "1a27c738",
   "metadata": {},
   "outputs": [
    {
     "data": {
      "text/html": [
       "<div>\n",
       "<style scoped>\n",
       "    .dataframe tbody tr th:only-of-type {\n",
       "        vertical-align: middle;\n",
       "    }\n",
       "\n",
       "    .dataframe tbody tr th {\n",
       "        vertical-align: top;\n",
       "    }\n",
       "\n",
       "    .dataframe thead th {\n",
       "        text-align: right;\n",
       "    }\n",
       "</style>\n",
       "<table border=\"1\" class=\"dataframe\">\n",
       "  <thead>\n",
       "    <tr style=\"text-align: right;\">\n",
       "      <th></th>\n",
       "      <th>ABT</th>\n",
       "      <th>ABBV</th>\n",
       "      <th>ABMD</th>\n",
       "      <th>ACN</th>\n",
       "      <th>ATVI</th>\n",
       "      <th>ADBE</th>\n",
       "      <th>AMD</th>\n",
       "      <th>AAP</th>\n",
       "      <th>AES</th>\n",
       "      <th>AMG</th>\n",
       "      <th>...</th>\n",
       "      <th>WLTW</th>\n",
       "      <th>WYNN</th>\n",
       "      <th>XEL</th>\n",
       "      <th>XRX</th>\n",
       "      <th>XLNX</th>\n",
       "      <th>XYL</th>\n",
       "      <th>YUM</th>\n",
       "      <th>ZBH</th>\n",
       "      <th>ZION</th>\n",
       "      <th>ZTS</th>\n",
       "    </tr>\n",
       "    <tr>\n",
       "      <th>Date</th>\n",
       "      <th></th>\n",
       "      <th></th>\n",
       "      <th></th>\n",
       "      <th></th>\n",
       "      <th></th>\n",
       "      <th></th>\n",
       "      <th></th>\n",
       "      <th></th>\n",
       "      <th></th>\n",
       "      <th></th>\n",
       "      <th></th>\n",
       "      <th></th>\n",
       "      <th></th>\n",
       "      <th></th>\n",
       "      <th></th>\n",
       "      <th></th>\n",
       "      <th></th>\n",
       "      <th></th>\n",
       "      <th></th>\n",
       "      <th></th>\n",
       "      <th></th>\n",
       "    </tr>\n",
       "  </thead>\n",
       "  <tbody>\n",
       "    <tr>\n",
       "      <th>2018-01-02</th>\n",
       "      <td>58.790001</td>\n",
       "      <td>98.410004</td>\n",
       "      <td>192.490005</td>\n",
       "      <td>153.839996</td>\n",
       "      <td>64.309998</td>\n",
       "      <td>177.699997</td>\n",
       "      <td>10.98</td>\n",
       "      <td>106.089996</td>\n",
       "      <td>10.88</td>\n",
       "      <td>203.039993</td>\n",
       "      <td>...</td>\n",
       "      <td>146.990005</td>\n",
       "      <td>164.300003</td>\n",
       "      <td>47.810001</td>\n",
       "      <td>29.370001</td>\n",
       "      <td>67.879997</td>\n",
       "      <td>68.070000</td>\n",
       "      <td>81.599998</td>\n",
       "      <td>124.059998</td>\n",
       "      <td>50.700001</td>\n",
       "      <td>71.769997</td>\n",
       "    </tr>\n",
       "    <tr>\n",
       "      <th>2018-01-03</th>\n",
       "      <td>58.919998</td>\n",
       "      <td>99.949997</td>\n",
       "      <td>195.820007</td>\n",
       "      <td>154.550003</td>\n",
       "      <td>65.309998</td>\n",
       "      <td>181.039993</td>\n",
       "      <td>11.55</td>\n",
       "      <td>107.050003</td>\n",
       "      <td>10.87</td>\n",
       "      <td>202.119995</td>\n",
       "      <td>...</td>\n",
       "      <td>149.740005</td>\n",
       "      <td>162.520004</td>\n",
       "      <td>47.490002</td>\n",
       "      <td>29.330000</td>\n",
       "      <td>69.239998</td>\n",
       "      <td>68.900002</td>\n",
       "      <td>81.529999</td>\n",
       "      <td>124.919998</td>\n",
       "      <td>50.639999</td>\n",
       "      <td>72.099998</td>\n",
       "    </tr>\n",
       "  </tbody>\n",
       "</table>\n",
       "<p>2 rows × 498 columns</p>\n",
       "</div>"
      ],
      "text/plain": [
       "                  ABT       ABBV        ABMD         ACN       ATVI  \\\n",
       "Date                                                                  \n",
       "2018-01-02  58.790001  98.410004  192.490005  153.839996  64.309998   \n",
       "2018-01-03  58.919998  99.949997  195.820007  154.550003  65.309998   \n",
       "\n",
       "                  ADBE    AMD         AAP    AES         AMG  ...        WLTW  \\\n",
       "Date                                                          ...               \n",
       "2018-01-02  177.699997  10.98  106.089996  10.88  203.039993  ...  146.990005   \n",
       "2018-01-03  181.039993  11.55  107.050003  10.87  202.119995  ...  149.740005   \n",
       "\n",
       "                  WYNN        XEL        XRX       XLNX        XYL        YUM  \\\n",
       "Date                                                                            \n",
       "2018-01-02  164.300003  47.810001  29.370001  67.879997  68.070000  81.599998   \n",
       "2018-01-03  162.520004  47.490002  29.330000  69.239998  68.900002  81.529999   \n",
       "\n",
       "                   ZBH       ZION        ZTS  \n",
       "Date                                          \n",
       "2018-01-02  124.059998  50.700001  71.769997  \n",
       "2018-01-03  124.919998  50.639999  72.099998  \n",
       "\n",
       "[2 rows x 498 columns]"
      ]
     },
     "execution_count": 57,
     "metadata": {},
     "output_type": "execute_result"
    }
   ],
   "source": [
    "assets = pd.read_csv('SP500Data.csv',index_col=0)\n",
    "missing_fractions = assets.isnull().mean().sort_values(ascending=False)\n",
    "\n",
    "missing_fractions.head(10)\n",
    "\n",
    "drop_list = sorted(list(missing_fractions[missing_fractions > 0.3].index))\n",
    "\n",
    "assets.drop(labels=drop_list, axis=1, inplace=True)\n",
    "assets.shape\n",
    "# Fill the missing values with the last value available in the dataset. \n",
    "assets=assets.fillna(method='ffill')\n",
    "assets.head(2)"
   ]
  },
  {
   "cell_type": "code",
   "execution_count": 58,
   "id": "dfc75139",
   "metadata": {},
   "outputs": [],
   "source": [
    "options=np.array(assets.columns)\n",
    "# str(options)\n",
    "options = []\n",
    "\n",
    "for tic in assets.columns:\n",
    "    #{'label': 'user sees', 'value': 'script sees'}\n",
    "    mydict = {}\n",
    "    mydict['label'] = tic #Apple Co. AAPL\n",
    "    mydict['value'] = tic\n",
    "    options.append(mydict)"
   ]
  },
  {
   "cell_type": "code",
   "execution_count": 52,
   "id": "46749f09",
   "metadata": {},
   "outputs": [
    {
     "name": "stdout",
     "output_type": "stream",
     "text": [
      "[*********************100%***********************]  1 of 1 completed\n",
      "\n",
      "1 Failed download:\n",
      "- SP500: No timezone found, symbol may be delisted\n"
     ]
    }
   ],
   "source": [
    "def predict_risk_tolerance(X_input):\n",
    "    filename = 'finalized_robo_advice_model.sav'\n",
    "    loaded_model = load(open(filename, 'rb'))\n",
    "    predictions = loaded_model.predict(X_input)\n",
    "    return predictions\n",
    "\n",
    "def get_asset_allocation(riskTolerance, stock_ticker):\n",
    "    assets_selected = assets.loc[:, stock_ticker]\n",
    "    return_vec = np.array(assets_selected.pct_change().dropna(axis=0)).T\n",
    "    n = len(return_vec)\n",
    "    returns = np.asmatrix(return_vec)\n",
    "    mus = 1 - riskTolerance\n",
    "    \n",
    "    S = opt.matrix(np.cov(return_vec))\n",
    "    pbar = opt.matrix(np.mean(return_vec, axis=1))\n",
    "    # Constraint matrices\n",
    "    # Create constraint matrices\n",
    "    G = -opt.matrix(np.eye(n))   # negative n x n identity matrix\n",
    "    h = opt.matrix(0.0, (n ,1))\n",
    "    A = opt.matrix(1.0, (1, n))\n",
    "    b = opt.matrix(1.0)\n",
    "    # Calculate efficient frontier weights using quadratic programming\n",
    "    portfolios = solvers.qp(mus*S, -pbar, G, h, A, b)\n",
    "    w=portfolios['x'].T\n",
    "    print (w)\n",
    "    Alloc =  pd.DataFrame(data = np.array(portfolios['x']),index = assets_selected.columns)\n",
    "    # Calculate efficient frontier weights using quadratic programming\n",
    "    portfolios = solvers.qp(mus*S, -pbar, G, h, A, b)\n",
    "    returns_final=(np.array(assets_selected) * np.array(w))\n",
    "    returns_sum = np.sum(returns_final,axis =1)\n",
    "    returns_sum_pd = pd.DataFrame(returns_sum, index = assets.index )\n",
    "    returns_sum_pd = returns_sum_pd - returns_sum_pd.iloc[0,:] + 100   \n",
    "    return Alloc,returns_sum_pd\n",
    "    "
   ]
  },
  {
   "cell_type": "code",
   "execution_count": 54,
   "id": "53720a83",
   "metadata": {},
   "outputs": [],
   "source": [
    "def update_risk_tolerance(n_clicks,Age,Nwcat,Inccl,Risk,Edu,Married,Kids,Occ):\n",
    "      \n",
    "    #ipdb.set_trace()\n",
    "    \n",
    "    RiskTolerance = 0\n",
    "    if n_clicks != None:    \n",
    "        X_input = [[Age,Edu,Married,Kids,Occ,Inccl, Risk,Nwcat]]\n",
    "        RiskTolerance= predict_riskTolerance(X_input)\n",
    "    #print(RiskAversion)\n",
    "    #Using linear regression to get the risk tolerance within the cluster.    \n",
    "    return list([round(float(RiskTolerance*100),2)])\n",
    "\n"
   ]
  },
  {
   "cell_type": "code",
   "execution_count": 55,
   "id": "4ce26280",
   "metadata": {},
   "outputs": [
    {
     "data": {
      "text/html": [
       "<div>\n",
       "<style scoped>\n",
       "    .dataframe tbody tr th:only-of-type {\n",
       "        vertical-align: middle;\n",
       "    }\n",
       "\n",
       "    .dataframe tbody tr th {\n",
       "        vertical-align: top;\n",
       "    }\n",
       "\n",
       "    .dataframe thead th {\n",
       "        text-align: right;\n",
       "    }\n",
       "</style>\n",
       "<table border=\"1\" class=\"dataframe\">\n",
       "  <thead>\n",
       "    <tr style=\"text-align: right;\">\n",
       "      <th></th>\n",
       "      <th>SP500</th>\n",
       "    </tr>\n",
       "    <tr>\n",
       "      <th>DATE</th>\n",
       "      <th></th>\n",
       "    </tr>\n",
       "  </thead>\n",
       "  <tbody>\n",
       "    <tr>\n",
       "      <th>2018-05-03</th>\n",
       "      <td>2629.73</td>\n",
       "    </tr>\n",
       "    <tr>\n",
       "      <th>2018-05-04</th>\n",
       "      <td>2663.42</td>\n",
       "    </tr>\n",
       "    <tr>\n",
       "      <th>2018-05-07</th>\n",
       "      <td>2672.63</td>\n",
       "    </tr>\n",
       "    <tr>\n",
       "      <th>2018-05-08</th>\n",
       "      <td>2671.92</td>\n",
       "    </tr>\n",
       "    <tr>\n",
       "      <th>2018-05-09</th>\n",
       "      <td>2697.79</td>\n",
       "    </tr>\n",
       "    <tr>\n",
       "      <th>...</th>\n",
       "      <td>...</td>\n",
       "    </tr>\n",
       "    <tr>\n",
       "      <th>2023-04-25</th>\n",
       "      <td>4071.63</td>\n",
       "    </tr>\n",
       "    <tr>\n",
       "      <th>2023-04-26</th>\n",
       "      <td>4055.99</td>\n",
       "    </tr>\n",
       "    <tr>\n",
       "      <th>2023-04-27</th>\n",
       "      <td>4135.35</td>\n",
       "    </tr>\n",
       "    <tr>\n",
       "      <th>2023-04-28</th>\n",
       "      <td>4169.48</td>\n",
       "    </tr>\n",
       "    <tr>\n",
       "      <th>2023-05-01</th>\n",
       "      <td>4167.87</td>\n",
       "    </tr>\n",
       "  </tbody>\n",
       "</table>\n",
       "<p>1303 rows × 1 columns</p>\n",
       "</div>"
      ],
      "text/plain": [
       "              SP500\n",
       "DATE               \n",
       "2018-05-03  2629.73\n",
       "2018-05-04  2663.42\n",
       "2018-05-07  2672.63\n",
       "2018-05-08  2671.92\n",
       "2018-05-09  2697.79\n",
       "...             ...\n",
       "2023-04-25  4071.63\n",
       "2023-04-26  4055.99\n",
       "2023-04-27  4135.35\n",
       "2023-04-28  4169.48\n",
       "2023-05-01  4167.87\n",
       "\n",
       "[1303 rows x 1 columns]"
      ]
     },
     "execution_count": 55,
     "metadata": {},
     "output_type": "execute_result"
    }
   ],
   "source": [
    "# Creating graphs for allocation\n",
    "def update_asset_allocationChart(n_clicks, risk_tolerance, stock_ticker):\n",
    "    \n",
    "    Allocated, InvestmentReturn = get_asset_allocation(risk_tolerance,stock_ticker)  \n",
    "    \n",
    "    return [{'data' : [go.Bar(\n",
    "                        x=Allocated.index,\n",
    "                        y=Allocated.iloc[:,0],\n",
    "                        marker=dict(color='red'),\n",
    "                    ),\n",
    "                    ],\n",
    "            'layout': {'title':\" Asset allocation - Mean-Variance Allocation\"}\n",
    "\n",
    "       },\n",
    "            {'data' : [go.Scatter(\n",
    "                        x=InvestmentReturn.index,\n",
    "                        y=InvestmentReturn.iloc[:,0],\n",
    "                        name = 'OEE (%)',\n",
    "                        marker=dict(color='red'),\n",
    "                    ),\n",
    "                    ],\n",
    "            'layout': {'title':\"Portfolio value of $100 investment\"}\n",
    "\n",
    "       }]"
   ]
  },
  {
   "cell_type": "code",
   "execution_count": null,
   "id": "1da7a27f",
   "metadata": {},
   "outputs": [],
   "source": []
  }
 ],
 "metadata": {
  "kernelspec": {
   "display_name": "Python 3.10 (tensorflow)",
   "language": "python",
   "name": "tensorflow"
  },
  "language_info": {
   "codemirror_mode": {
    "name": "ipython",
    "version": 3
   },
   "file_extension": ".py",
   "mimetype": "text/x-python",
   "name": "python",
   "nbconvert_exporter": "python",
   "pygments_lexer": "ipython3",
   "version": "3.10.9"
  }
 },
 "nbformat": 4,
 "nbformat_minor": 5
}
